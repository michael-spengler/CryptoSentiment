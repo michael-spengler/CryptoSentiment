{
 "cells": [
  {
   "cell_type": "code",
   "execution_count": 1,
   "metadata": {},
   "outputs": [],
   "source": [
    "import pandas as pd"
   ]
  },
  {
   "cell_type": "code",
   "execution_count": 2,
   "metadata": {},
   "outputs": [
    {
     "data": {
      "text/html": [
       "<div>\n",
       "<style scoped>\n",
       "    .dataframe tbody tr th:only-of-type {\n",
       "        vertical-align: middle;\n",
       "    }\n",
       "\n",
       "    .dataframe tbody tr th {\n",
       "        vertical-align: top;\n",
       "    }\n",
       "\n",
       "    .dataframe thead th {\n",
       "        text-align: right;\n",
       "    }\n",
       "</style>\n",
       "<table border=\"1\" class=\"dataframe\">\n",
       "  <thead>\n",
       "    <tr style=\"text-align: right;\">\n",
       "      <th></th>\n",
       "      <th>Unnamed: 0</th>\n",
       "      <th>index</th>\n",
       "      <th>body</th>\n",
       "      <th>date_published</th>\n",
       "      <th>likes</th>\n",
       "      <th>language</th>\n",
       "    </tr>\n",
       "  </thead>\n",
       "  <tbody>\n",
       "    <tr>\n",
       "      <th>0</th>\n",
       "      <td>0</td>\n",
       "      <td>0</td>\n",
       "      <td>@elonmusk is there any way tesla could use pow...</td>\n",
       "      <td>2021-06-15 20:43:19</td>\n",
       "      <td>0</td>\n",
       "      <td>en</td>\n",
       "    </tr>\n",
       "    <tr>\n",
       "      <th>1</th>\n",
       "      <td>1</td>\n",
       "      <td>0</td>\n",
       "      <td>RT @SAFEHAMSTERS: HEY SAFEHAMSTERSARMY! 💥💥💥\\n\\...</td>\n",
       "      <td>2021-06-15 20:43:18</td>\n",
       "      <td>0</td>\n",
       "      <td>en</td>\n",
       "    </tr>\n",
       "    <tr>\n",
       "      <th>2</th>\n",
       "      <td>2</td>\n",
       "      <td>0</td>\n",
       "      <td>To maintain purchasing power ( not to be subje...</td>\n",
       "      <td>2021-06-15 20:43:17</td>\n",
       "      <td>0</td>\n",
       "      <td>en</td>\n",
       "    </tr>\n",
       "    <tr>\n",
       "      <th>3</th>\n",
       "      <td>3</td>\n",
       "      <td>0</td>\n",
       "      <td>@nayibbukele  This is an eye opening to the wo...</td>\n",
       "      <td>2021-06-15 20:43:17</td>\n",
       "      <td>0</td>\n",
       "      <td>en</td>\n",
       "    </tr>\n",
       "    <tr>\n",
       "      <th>4</th>\n",
       "      <td>4</td>\n",
       "      <td>0</td>\n",
       "      <td>🌍SafeEnergy🌍\\nSafeEnergy set out to reduce the...</td>\n",
       "      <td>2021-06-15 20:43:17</td>\n",
       "      <td>0</td>\n",
       "      <td>en</td>\n",
       "    </tr>\n",
       "  </tbody>\n",
       "</table>\n",
       "</div>"
      ],
      "text/plain": [
       "   Unnamed: 0  index                                               body  \\\n",
       "0           0      0  @elonmusk is there any way tesla could use pow...   \n",
       "1           1      0  RT @SAFEHAMSTERS: HEY SAFEHAMSTERSARMY! 💥💥💥\\n\\...   \n",
       "2           2      0  To maintain purchasing power ( not to be subje...   \n",
       "3           3      0  @nayibbukele  This is an eye opening to the wo...   \n",
       "4           4      0  🌍SafeEnergy🌍\\nSafeEnergy set out to reduce the...   \n",
       "\n",
       "        date_published  likes language  \n",
       "0  2021-06-15 20:43:19      0       en  \n",
       "1  2021-06-15 20:43:18      0       en  \n",
       "2  2021-06-15 20:43:17      0       en  \n",
       "3  2021-06-15 20:43:17      0       en  \n",
       "4  2021-06-15 20:43:17      0       en  "
      ]
     },
     "execution_count": 2,
     "metadata": {},
     "output_type": "execute_result"
    }
   ],
   "source": [
    "twitter = pd.read_csv('15062021_Twitter_Bitcoin.csv', sep = ';')\n",
    "reddit = pd.read_csv('15062021_Reddit_Bitcoin_new.csv', sep = ';')\n",
    "twitter.head()"
   ]
  },
  {
   "cell_type": "code",
   "execution_count": 3,
   "metadata": {},
   "outputs": [],
   "source": [
    "del twitter['Unnamed: 0']\n",
    "del reddit['Unnamed: 0']"
   ]
  },
  {
   "cell_type": "code",
   "execution_count": 4,
   "metadata": {},
   "outputs": [
    {
     "data": {
      "text/plain": [
       "720"
      ]
     },
     "execution_count": 4,
     "metadata": {},
     "output_type": "execute_result"
    }
   ],
   "source": [
    "len(twitter)"
   ]
  },
  {
   "cell_type": "code",
   "execution_count": 5,
   "metadata": {},
   "outputs": [
    {
     "data": {
      "text/plain": [
       "555"
      ]
     },
     "execution_count": 5,
     "metadata": {},
     "output_type": "execute_result"
    }
   ],
   "source": [
    "len(twitter.body.unique())"
   ]
  },
  {
   "cell_type": "code",
   "execution_count": 6,
   "metadata": {},
   "outputs": [
    {
     "data": {
      "text/html": [
       "<div>\n",
       "<style scoped>\n",
       "    .dataframe tbody tr th:only-of-type {\n",
       "        vertical-align: middle;\n",
       "    }\n",
       "\n",
       "    .dataframe tbody tr th {\n",
       "        vertical-align: top;\n",
       "    }\n",
       "\n",
       "    .dataframe thead th {\n",
       "        text-align: right;\n",
       "    }\n",
       "</style>\n",
       "<table border=\"1\" class=\"dataframe\">\n",
       "  <thead>\n",
       "    <tr style=\"text-align: right;\">\n",
       "      <th></th>\n",
       "      <th>title</th>\n",
       "      <th>score</th>\n",
       "      <th>id</th>\n",
       "      <th>subreddit</th>\n",
       "      <th>num_comments</th>\n",
       "      <th>body</th>\n",
       "      <th>created</th>\n",
       "    </tr>\n",
       "  </thead>\n",
       "  <tbody>\n",
       "    <tr>\n",
       "      <th>0</th>\n",
       "      <td>Spot account</td>\n",
       "      <td>1</td>\n",
       "      <td>o0nzyj</td>\n",
       "      <td>Bitcoin</td>\n",
       "      <td>0</td>\n",
       "      <td>I recently heard George from cryptosrus say th...</td>\n",
       "      <td>1.623818e+09</td>\n",
       "    </tr>\n",
       "    <tr>\n",
       "      <th>1</th>\n",
       "      <td>Biden is meeting with Putin on the same day of...</td>\n",
       "      <td>0</td>\n",
       "      <td>o0nv35</td>\n",
       "      <td>Bitcoin</td>\n",
       "      <td>3</td>\n",
       "      <td>NaN</td>\n",
       "      <td>1.623818e+09</td>\n",
       "    </tr>\n",
       "    <tr>\n",
       "      <th>2</th>\n",
       "      <td>1B short in bitcoin now from bitfinex whales</td>\n",
       "      <td>4</td>\n",
       "      <td>o0nv1m</td>\n",
       "      <td>Bitcoin</td>\n",
       "      <td>1</td>\n",
       "      <td>[\\#Bitfinex](https://twitter.com/hashtag/Bitf...</td>\n",
       "      <td>1.623818e+09</td>\n",
       "    </tr>\n",
       "    <tr>\n",
       "      <th>3</th>\n",
       "      <td>The Logic of Bitcoin's Value</td>\n",
       "      <td>1</td>\n",
       "      <td>o0nlw7</td>\n",
       "      <td>Bitcoin</td>\n",
       "      <td>1</td>\n",
       "      <td>NaN</td>\n",
       "      <td>1.623817e+09</td>\n",
       "    </tr>\n",
       "    <tr>\n",
       "      <th>4</th>\n",
       "      <td>The bitcoin heist</td>\n",
       "      <td>0</td>\n",
       "      <td>o0naak</td>\n",
       "      <td>Bitcoin</td>\n",
       "      <td>3</td>\n",
       "      <td>What is wrong with Google/Alphabet? I have th...</td>\n",
       "      <td>1.623816e+09</td>\n",
       "    </tr>\n",
       "  </tbody>\n",
       "</table>\n",
       "</div>"
      ],
      "text/plain": [
       "                                               title  score      id subreddit  \\\n",
       "0                                       Spot account      1  o0nzyj   Bitcoin   \n",
       "1  Biden is meeting with Putin on the same day of...      0  o0nv35   Bitcoin   \n",
       "2       1B short in bitcoin now from bitfinex whales      4  o0nv1m   Bitcoin   \n",
       "3                       The Logic of Bitcoin's Value      1  o0nlw7   Bitcoin   \n",
       "4                                  The bitcoin heist      0  o0naak   Bitcoin   \n",
       "\n",
       "   num_comments                                               body  \\\n",
       "0             0  I recently heard George from cryptosrus say th...   \n",
       "1             3                                                NaN   \n",
       "2             1   [\\#Bitfinex](https://twitter.com/hashtag/Bitf...   \n",
       "3             1                                                NaN   \n",
       "4             3   What is wrong with Google/Alphabet? I have th...   \n",
       "\n",
       "        created  \n",
       "0  1.623818e+09  \n",
       "1  1.623818e+09  \n",
       "2  1.623818e+09  \n",
       "3  1.623817e+09  \n",
       "4  1.623816e+09  "
      ]
     },
     "execution_count": 6,
     "metadata": {},
     "output_type": "execute_result"
    }
   ],
   "source": [
    "reddit.head()"
   ]
  },
  {
   "cell_type": "code",
   "execution_count": 7,
   "metadata": {},
   "outputs": [
    {
     "data": {
      "text/plain": [
       "21039"
      ]
     },
     "execution_count": 7,
     "metadata": {},
     "output_type": "execute_result"
    }
   ],
   "source": [
    "len(reddit)"
   ]
  },
  {
   "cell_type": "code",
   "execution_count": 8,
   "metadata": {},
   "outputs": [
    {
     "data": {
      "text/plain": [
       "906"
      ]
     },
     "execution_count": 8,
     "metadata": {},
     "output_type": "execute_result"
    }
   ],
   "source": [
    "len(reddit.id.unique())"
   ]
  },
  {
   "cell_type": "code",
   "execution_count": 9,
   "metadata": {},
   "outputs": [
    {
     "data": {
      "text/plain": [
       "462"
      ]
     },
     "execution_count": 9,
     "metadata": {},
     "output_type": "execute_result"
    }
   ],
   "source": [
    "len(reddit.body.unique())"
   ]
  },
  {
   "cell_type": "code",
   "execution_count": null,
   "metadata": {},
   "outputs": [],
   "source": []
  }
 ],
 "metadata": {
  "kernelspec": {
   "display_name": "Python 3",
   "language": "python",
   "name": "python3"
  },
  "language_info": {
   "codemirror_mode": {
    "name": "ipython",
    "version": 3
   },
   "file_extension": ".py",
   "mimetype": "text/x-python",
   "name": "python",
   "nbconvert_exporter": "python",
   "pygments_lexer": "ipython3",
   "version": "3.8.5"
  }
 },
 "nbformat": 4,
 "nbformat_minor": 4
}
