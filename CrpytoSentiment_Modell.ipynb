{
  "nbformat": 4,
  "nbformat_minor": 0,
  "metadata": {
    "colab": {
      "name": "CrpytoSentiment_Modell.ipynb",
      "provenance": [],
      "machine_shape": "hm",
      "authorship_tag": "ABX9TyM9qjovfe+bFj+e6Y5E5z0F",
      "include_colab_link": true
    },
    "kernelspec": {
      "name": "python3",
      "display_name": "Python 3"
    },
    "language_info": {
      "name": "python"
    },
    "accelerator": "GPU"
  },
  "cells": [
    {
      "cell_type": "markdown",
      "metadata": {
        "id": "view-in-github",
        "colab_type": "text"
      },
      "source": [
        "<a href=\"https://colab.research.google.com/github/hannahweber244/CryptoSentiment/blob/main/CrpytoSentiment_Modell.ipynb\" target=\"_parent\"><img src=\"https://colab.research.google.com/assets/colab-badge.svg\" alt=\"Open In Colab\"/></a>"
      ]
    },
    {
      "cell_type": "code",
      "metadata": {
        "colab": {
          "base_uri": "https://localhost:8080/"
        },
        "id": "KDf7RvQILvGz",
        "outputId": "4e439857-253a-49a8-ec52-290f372828f6"
      },
      "source": [
        "!pip install langdetect\n",
        "import pandas as pd\n",
        "import scipy\n",
        "import random\n",
        "import numpy as np\n",
        "from sklearn.feature_extraction.text import TfidfVectorizer\n",
        "from nltk.corpus import stopwords\n",
        "import nltk\n",
        "from nltk.stem import WordNetLemmatizer\n",
        "nltk.download('wordnet')\n",
        "nltk.download('stopwords')\n",
        "stop_words = stopwords.words('english')\n",
        "from langdetect import detect\n",
        "import re, string\n",
        "#from gensim.models.doc2vec import Doc2Vec\n",
        "#from sentence_transformers import SentenceTransformer\n",
        "from sklearn.feature_extraction.text import TfidfVectorizer\n",
        "import torch.autograd as autograd         # computation graph\n",
        "from torch import Tensor \n",
        "import torch# tensor node in the computation graph\n",
        "import torch.nn as nn                     # neural networks\n",
        "import torch.nn.functional as F           # layers, activations and more\n",
        "import torch.optim as optim   \n",
        "import json"
      ],
      "execution_count": null,
      "outputs": [
        {
          "output_type": "stream",
          "text": [
            "Requirement already satisfied: langdetect in /usr/local/lib/python3.7/dist-packages (1.0.9)\n",
            "Requirement already satisfied: six in /usr/local/lib/python3.7/dist-packages (from langdetect) (1.15.0)\n",
            "[nltk_data] Downloading package wordnet to /root/nltk_data...\n",
            "[nltk_data]   Package wordnet is already up-to-date!\n",
            "[nltk_data] Downloading package stopwords to /root/nltk_data...\n",
            "[nltk_data]   Package stopwords is already up-to-date!\n"
          ],
          "name": "stdout"
        }
      ]
    },
    {
      "cell_type": "code",
      "metadata": {
        "colab": {
          "base_uri": "https://localhost:8080/"
        },
        "id": "KP6jlilIMctZ",
        "outputId": "ec19feef-5412-4a82-f1ad-224d6ca10c41"
      },
      "source": [
        "!unzip data.json.zip"
      ],
      "execution_count": null,
      "outputs": [
        {
          "output_type": "stream",
          "text": [
            "Archive:  data.json.zip\n",
            "replace data.json? [y]es, [n]o, [A]ll, [N]one, [r]ename: y\n",
            "  inflating: data.json               "
          ],
          "name": "stdout"
        }
      ]
    },
    {
      "cell_type": "code",
      "metadata": {
        "id": "ZKy3Y6AnMGIE"
      },
      "source": [
        "with open(\"data.json\", \"r\") as f:\n",
        "    data = json.load(f)"
      ],
      "execution_count": null,
      "outputs": []
    },
    {
      "cell_type": "code",
      "metadata": {
        "id": "ZF2_ihy2Mm3t"
      },
      "source": [
        "tfidf_vectorizer = TfidfVectorizer()\n",
        "descriptions_representation_tfidf = tfidf_vectorizer.fit_transform([\" \".join(text) for text, klasse in data.values()])\n",
        "data_rep = scipy.sparse.csr_matrix.toarray(descriptions_representation_tfidf)\n",
        "rep_list = list()\n",
        "\n",
        "for i in range(data_rep.shape[0]):\n",
        "    \n",
        "    rep = data_rep[i]\n",
        "    klasse = data[str(i)][1]\n",
        "    rep_list.append((rep, klasse))"
      ],
      "execution_count": null,
      "outputs": []
    },
    {
      "cell_type": "code",
      "metadata": {
        "id": "0dL-NdxfL50z"
      },
      "source": [
        "random.shuffle(rep_list)\n",
        "train_ = rep_list[:int(len(rep_list)*0.4)]\n",
        "test_ = rep_list[int(len(rep_list)*0.4):int(len(rep_list)*0.5)]"
      ],
      "execution_count": null,
      "outputs": []
    },
    {
      "cell_type": "code",
      "metadata": {
        "id": "UIT07iftMx4c"
      },
      "source": [
        "device = torch.device('cpu' if not torch.cuda.is_available() else 'cuda')\n",
        "def create_batches(liste, batch_size = 64, num_classes = 3):\n",
        "    \n",
        "    batches = list()\n",
        "    batch = list()\n",
        "    \n",
        "    targets = list()\n",
        "    target = list()\n",
        "    \n",
        "    for i, (d, t) in enumerate(liste, start = 1):\n",
        "        if i % batch_size == 0:\n",
        "            \n",
        "            label = np.zeros(num_classes)\n",
        "            t_ = 2 if t == -1 else int(t)\n",
        "            label[t_] = 1\n",
        "            label = torch.from_numpy(label).to(device)\n",
        "            target.append(label)\n",
        "            target = torch.stack(target)\n",
        "            targets.append(target)\n",
        "            \n",
        "            d = torch.from_numpy(d).to(device)\n",
        "            batch.append(d)\n",
        "            \n",
        "            batch = torch.stack(batch)\n",
        "            batches.append(batch)\n",
        "            \n",
        "            batch = list()\n",
        "            target = list()\n",
        "            \n",
        "        else:\n",
        "            d = torch.from_numpy(d).to(device)\n",
        "            batch.append(d)\n",
        "            \n",
        "            label = np.zeros(num_classes)\n",
        "            t_ = 2 if t == -1 else int(t)\n",
        "            label[t_] = 1\n",
        "            \n",
        "            label = torch.from_numpy(label).to(device)\n",
        "            target.append(label)\n",
        "    return batches, targets\n",
        "            \n"
      ],
      "execution_count": null,
      "outputs": []
    },
    {
      "cell_type": "code",
      "metadata": {
        "id": "_gXazbdoMyCu"
      },
      "source": [
        "train_batches, train_targets = create_batches(train_)\n",
        "test_batches, test_targets = create_batches(test_, batch_size = 1)"
      ],
      "execution_count": null,
      "outputs": []
    },
    {
      "cell_type": "code",
      "metadata": {
        "id": "5yImP59xMyE-"
      },
      "source": [
        "class Sentiment(nn.Module):\n",
        "    \n",
        "    def __init__(self, input_dim):\n",
        "        super(Sentiment, self).__init__()\n",
        "        \n",
        "        self.input_layer = nn.Linear(input_dim, 15)\n",
        "        self.hidden_layer = nn.Linear(15, 7)\n",
        "        self.output_layer = nn.Linear(7, 3)\n",
        "        \n",
        "    def forward(self,x):\n",
        "        x = F.relu(self.input_layer(x.float()))\n",
        "        x = F.relu(self.hidden_layer(x))\n",
        "        x = torch.sigmoid(self.output_layer(x))\n",
        "        return x\n",
        "    \n",
        "def train():\n",
        "    model.train()\n",
        "    train_loss = 0\n",
        "    for batch_id, batch in enumerate(train_batches):\n",
        "        target = train_targets[batch_id].float()\n",
        "        \n",
        "        optimizer.zero_grad()\n",
        "        out = model(batch).float()\n",
        "        loss = criterion(out, target).float()\n",
        "        \n",
        "        train_loss += loss.item()\n",
        "        \n",
        "        loss.backward()\n",
        "        optimizer.step()\n",
        "        \n",
        "    return train_loss/len(train_batches)\n",
        "        \n",
        "        \n",
        "def test():\n",
        "    model.eval()\n",
        "    correctly_classified = 0\n",
        "    \n",
        "    with torch.no_grad():\n",
        "    \n",
        "        for batch_id, batch in enumerate(test_batches):\n",
        "            target = test_targets[batch_id].float()\n",
        "            \n",
        "            \n",
        "            out = model(batch).float()\n",
        "            \n",
        "            out = torch.argmax(out)\n",
        "            tar = torch.argmax(target)\n",
        "            \n",
        "            if out == tar:\n",
        "                correctly_classified += 1\n",
        "                \n",
        "    return correctly_classified/len(test_batches)"
      ],
      "execution_count": null,
      "outputs": []
    },
    {
      "cell_type": "code",
      "metadata": {
        "id": "SF_cx0leipBn"
      },
      "source": [
        "loss_df = pd.DataFrame(columns = ['epoche', 'loss', 'accuracy'])\n",
        "model = Sentiment(115859).float()\n",
        "optimizer = optim.Adam(model.parameters(), lr = 0.001)\n",
        "criterion = nn.MSELoss()\n",
        "for e in range(15):\n",
        "    print(e +1)\n",
        "    loss_ = train()\n",
        "    acc = test()\n",
        "    loss_df.loc[len(loss_df),:] = [e+1, loss_, acc]"
      ],
      "execution_count": null,
      "outputs": []
    },
    {
      "cell_type": "code",
      "metadata": {
        "id": "MzLU9UxdipD1"
      },
      "source": [
        "loss_df"
      ],
      "execution_count": null,
      "outputs": []
    },
    {
      "cell_type": "code",
      "metadata": {
        "id": "y37rR3weipGE"
      },
      "source": [
        ""
      ],
      "execution_count": null,
      "outputs": []
    }
  ]
}